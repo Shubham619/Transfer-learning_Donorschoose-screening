{
  "nbformat": 4,
  "nbformat_minor": 0,
  "metadata": {
    "colab": {
      "name": "Transfer-learning_Donorschoose.ipynb",
      "provenance": [],
      "collapsed_sections": [],
      "authorship_tag": "ABX9TyPst2G1SxvcC1Q3x9NizOws",
      "include_colab_link": true
    },
    "kernelspec": {
      "name": "python3",
      "display_name": "Python 3"
    }
  },
  "cells": [
    {
      "cell_type": "markdown",
      "metadata": {
        "id": "view-in-github",
        "colab_type": "text"
      },
      "source": [
        "<a href=\"https://colab.research.google.com/github/Shubham619/Transfer-learning_Donorschoose-screening/blob/master/Transfer_learning_Donorschoose.ipynb\" target=\"_parent\"><img src=\"https://colab.research.google.com/assets/colab-badge.svg\" alt=\"Open In Colab\"/></a>"
      ]
    },
    {
      "cell_type": "code",
      "metadata": {
        "id": "CxZnFFzmneQT",
        "colab_type": "code",
        "colab": {}
      },
      "source": [
        "import pandas as pd\n",
        "import numpy as np\n",
        "import random"
      ],
      "execution_count": null,
      "outputs": []
    },
    {
      "cell_type": "code",
      "metadata": {
        "id": "SySEEJ73CH_V",
        "colab_type": "code",
        "colab": {}
      },
      "source": [
        "\n",
        "from fastai.text import *"
      ],
      "execution_count": null,
      "outputs": []
    },
    {
      "cell_type": "code",
      "metadata": {
        "id": "4DezsNODC4Lg",
        "colab_type": "code",
        "colab": {}
      },
      "source": [
        "train=train.loc[:,['project_is_approved','text']]"
      ],
      "execution_count": null,
      "outputs": []
    },
    {
      "cell_type": "code",
      "metadata": {
        "id": "vU3bXzmPDtdZ",
        "colab_type": "code",
        "colab": {}
      },
      "source": [
        "train.columns=['label','text']"
      ],
      "execution_count": null,
      "outputs": []
    },
    {
      "cell_type": "code",
      "metadata": {
        "id": "WbQEHf98EMKf",
        "colab_type": "code",
        "colab": {}
      },
      "source": [
        "labels={1:\"accepted\",0:\"rejected\"}\n",
        "train['label']=train['label'].map(labels)"
      ],
      "execution_count": null,
      "outputs": []
    },
    {
      "cell_type": "code",
      "metadata": {
        "id": "hN9tzqOtEz59",
        "colab_type": "code",
        "colab": {}
      },
      "source": [
        "\n",
        "rand=random.sample(range(0, len(train)), 120000)"
      ],
      "execution_count": null,
      "outputs": []
    },
    {
      "cell_type": "code",
      "metadata": {
        "id": "xtO5wPU9FpPZ",
        "colab_type": "code",
        "colab": {}
      },
      "source": [
        "train=train.loc[rand,:]"
      ],
      "execution_count": null,
      "outputs": []
    },
    {
      "cell_type": "code",
      "metadata": {
        "id": "wsPQrOhcGMA5",
        "colab_type": "code",
        "colab": {}
      },
      "source": [
        "train=train.reset_index()\n",
        "train=train.loc[:,[\"label\",\"text\"]]"
      ],
      "execution_count": null,
      "outputs": []
    },
    {
      "cell_type": "code",
      "metadata": {
        "id": "qoiHa4ZYHau_",
        "colab_type": "code",
        "colab": {}
      },
      "source": [
        "train.to_csv('texts.csv')"
      ],
      "execution_count": null,
      "outputs": []
    },
    {
      "cell_type": "code",
      "metadata": {
        "id": "ViTAR8cGHfaO",
        "colab_type": "code",
        "colab": {}
      },
      "source": [
        "import pandas as pd\n",
        "train=pd.read_csv(\"/content/drive/My Drive/DonorsChoose/texts.csv\")"
      ],
      "execution_count": null,
      "outputs": []
    },
    {
      "cell_type": "code",
      "metadata": {
        "id": "gBF9pfnqKv74",
        "colab_type": "code",
        "colab": {}
      },
      "source": [
        "df_trn,df_val=train_test_split(train,stratify=train['label'],test_size=0.3,random_state=12)"
      ],
      "execution_count": null,
      "outputs": []
    },
    {
      "cell_type": "code",
      "metadata": {
        "id": "J4U9Lx0NlET_",
        "colab_type": "code",
        "colab": {
          "base_uri": "https://localhost:8080/",
          "height": 52
        },
        "outputId": "ceff481e-8a85-4b86-97c3-4a841808aa8a"
      },
      "source": [
        "print(df_trn.columns)\n",
        "print(train.columns)"
      ],
      "execution_count": null,
      "outputs": [
        {
          "output_type": "stream",
          "text": [
            "Index(['label', 'text'], dtype='object')\n",
            "Index(['label', 'text'], dtype='object')\n"
          ],
          "name": "stdout"
        }
      ]
    },
    {
      "cell_type": "code",
      "metadata": {
        "id": "8vNONVpvLAyU",
        "colab_type": "code",
        "colab": {
          "base_uri": "https://localhost:8080/",
          "height": 17
        },
        "outputId": "13a7cba3-1a80-440f-98cb-277d1ef8be8a"
      },
      "source": [
        "data_lm=TextLMDataBunch.from_df(train_df=df_trn,valid_df=test,path=\"\")"
      ],
      "execution_count": null,
      "outputs": [
        {
          "output_type": "display_data",
          "data": {
            "text/html": [
              ""
            ],
            "text/plain": [
              "<IPython.core.display.HTML object>"
            ]
          },
          "metadata": {
            "tags": []
          }
        },
        {
          "output_type": "display_data",
          "data": {
            "text/html": [
              ""
            ],
            "text/plain": [
              "<IPython.core.display.HTML object>"
            ]
          },
          "metadata": {
            "tags": []
          }
        }
      ]
    },
    {
      "cell_type": "code",
      "metadata": {
        "id": "XaPuWJ3vLMR4",
        "colab_type": "code",
        "colab": {
          "base_uri": "https://localhost:8080/",
          "height": 17
        },
        "outputId": "c88dd640-be55-468c-ace2-0604473054be"
      },
      "source": [
        "data_cls=TextClasDataBunch.from_df(path=\"\",train_df=df_trn,valid_df=test,vocab=data_lm.train_ds.vocab,bs=32)"
      ],
      "execution_count": null,
      "outputs": [
        {
          "output_type": "display_data",
          "data": {
            "text/html": [
              ""
            ],
            "text/plain": [
              "<IPython.core.display.HTML object>"
            ]
          },
          "metadata": {
            "tags": []
          }
        },
        {
          "output_type": "display_data",
          "data": {
            "text/html": [
              ""
            ],
            "text/plain": [
              "<IPython.core.display.HTML object>"
            ]
          },
          "metadata": {
            "tags": []
          }
        }
      ]
    },
    {
      "cell_type": "code",
      "metadata": {
        "id": "t2uGqzONGlD0",
        "colab_type": "code",
        "colab": {}
      },
      "source": [
        "\n",
        "data_lm.save('data_lm_export.pkl')\n",
        "data_cls.save('data_cls_export.pkl')"
      ],
      "execution_count": null,
      "outputs": []
    },
    {
      "cell_type": "code",
      "metadata": {
        "id": "qJ-t6bozGoos",
        "colab_type": "code",
        "colab": {}
      },
      "source": [
        "bs=32\n",
        "\n",
        "data_lm = load_data(path, 'data_lm_export.pkl', bs=bs)\n",
        "data_cls = load_data(path, 'data_cls_export.pkl', bs=bs)"
      ],
      "execution_count": null,
      "outputs": []
    },
    {
      "cell_type": "code",
      "metadata": {
        "id": "OBJdKZ7aGqaj",
        "colab_type": "code",
        "colab": {}
      },
      "source": [
        "torch.cuda.set_device(0)"
      ],
      "execution_count": null,
      "outputs": []
    },
    {
      "cell_type": "code",
      "metadata": {
        "id": "7Y93RazhGr-b",
        "colab_type": "code",
        "colab": {
          "base_uri": "https://localhost:8080/",
          "height": 35
        },
        "outputId": "7d6fe762-4d36-43c9-c532-806747d120fa"
      },
      "source": [
        "\n",
        "learn = language_model_learner(data_lm, AWD_LSTM, drop_mult=0.5)"
      ],
      "execution_count": null,
      "outputs": [
        {
          "output_type": "stream",
          "text": [
            "Downloading https://s3.amazonaws.com/fast-ai-modelzoo/wt103-fwd.tgz\n"
          ],
          "name": "stdout"
        },
        {
          "output_type": "display_data",
          "data": {
            "text/html": [
              ""
            ],
            "text/plain": [
              "<IPython.core.display.HTML object>"
            ]
          },
          "metadata": {
            "tags": []
          }
        }
      ]
    },
    {
      "cell_type": "code",
      "metadata": {
        "id": "x-6zeGd1Gthy",
        "colab_type": "code",
        "colab": {
          "base_uri": "https://localhost:8080/",
          "height": 76
        },
        "outputId": "713c9612-a6cd-43f4-c545-297f20946364"
      },
      "source": [
        "\n",
        "learn.fit_one_cycle(1, 1e-2)"
      ],
      "execution_count": null,
      "outputs": [
        {
          "output_type": "display_data",
          "data": {
            "text/html": [
              "<table border=\"1\" class=\"dataframe\">\n",
              "  <thead>\n",
              "    <tr style=\"text-align: left;\">\n",
              "      <th>epoch</th>\n",
              "      <th>train_loss</th>\n",
              "      <th>valid_loss</th>\n",
              "      <th>accuracy</th>\n",
              "      <th>time</th>\n",
              "    </tr>\n",
              "  </thead>\n",
              "  <tbody>\n",
              "    <tr>\n",
              "      <td>0</td>\n",
              "      <td>3.417661</td>\n",
              "      <td>3.188269</td>\n",
              "      <td>0.367963</td>\n",
              "      <td>1:08:32</td>\n",
              "    </tr>\n",
              "  </tbody>\n",
              "</table>"
            ],
            "text/plain": [
              "<IPython.core.display.HTML object>"
            ]
          },
          "metadata": {
            "tags": []
          }
        }
      ]
    },
    {
      "cell_type": "code",
      "metadata": {
        "id": "o35o4dvKGwyp",
        "colab_type": "code",
        "colab": {
          "base_uri": "https://localhost:8080/",
          "height": 170
        },
        "outputId": "9694a50c-7820-4f6a-867b-eeca976dc33d"
      },
      "source": [
        "learn.unfreeze()\n",
        "learn.fit_one_cycle(3, slice(1e-4,1e-2))"
      ],
      "execution_count": null,
      "outputs": [
        {
          "output_type": "display_data",
          "data": {
            "text/html": [
              "\n",
              "    <div>\n",
              "        <style>\n",
              "            /* Turns off some styling */\n",
              "            progress {\n",
              "                /* gets rid of default border in Firefox and Opera. */\n",
              "                border: none;\n",
              "                /* Needs to be in here for Safari polyfill so background images work as expected. */\n",
              "                background-size: auto;\n",
              "            }\n",
              "            .progress-bar-interrupted, .progress-bar-interrupted::-webkit-progress-bar {\n",
              "                background: #F44336;\n",
              "            }\n",
              "        </style>\n",
              "      <progress value='2' class='' max='3' style='width:300px; height:20px; vertical-align: middle;'></progress>\n",
              "      66.67% [2/3 2:36:08<1:18:04]\n",
              "    </div>\n",
              "    \n",
              "<table border=\"1\" class=\"dataframe\">\n",
              "  <thead>\n",
              "    <tr style=\"text-align: left;\">\n",
              "      <th>epoch</th>\n",
              "      <th>train_loss</th>\n",
              "      <th>valid_loss</th>\n",
              "      <th>accuracy</th>\n",
              "      <th>time</th>\n",
              "    </tr>\n",
              "  </thead>\n",
              "  <tbody>\n",
              "    <tr>\n",
              "      <td>0</td>\n",
              "      <td>3.125122</td>\n",
              "      <td>2.961061</td>\n",
              "      <td>0.398273</td>\n",
              "      <td>1:18:05</td>\n",
              "    </tr>\n",
              "    <tr>\n",
              "      <td>1</td>\n",
              "      <td>2.915049</td>\n",
              "      <td>2.809442</td>\n",
              "      <td>0.417198</td>\n",
              "      <td>1:18:02</td>\n",
              "    </tr>\n",
              "  </tbody>\n",
              "</table><p>\n",
              "\n",
              "    <div>\n",
              "        <style>\n",
              "            /* Turns off some styling */\n",
              "            progress {\n",
              "                /* gets rid of default border in Firefox and Opera. */\n",
              "                border: none;\n",
              "                /* Needs to be in here for Safari polyfill so background images work as expected. */\n",
              "                background-size: auto;\n",
              "            }\n",
              "            .progress-bar-interrupted, .progress-bar-interrupted::-webkit-progress-bar {\n",
              "                background: #F44336;\n",
              "            }\n",
              "        </style>\n",
              "      <progress value='2208' class='' max='6238' style='width:300px; height:20px; vertical-align: middle;'></progress>\n",
              "      35.40% [2208/6238 24:00<43:49 2.8434]\n",
              "    </div>\n",
              "    "
            ],
            "text/plain": [
              "<IPython.core.display.HTML object>"
            ]
          },
          "metadata": {
            "tags": []
          }
        },
        {
          "output_type": "stream",
          "text": [
            "Buffered data was truncated after reaching the output size limit."
          ],
          "name": "stdout"
        }
      ]
    },
    {
      "cell_type": "code",
      "metadata": {
        "id": "XnkQpxm9G03M",
        "colab_type": "code",
        "colab": {}
      },
      "source": [
        "learn.save('mini_donorchoose_language_model')\n",
        "learn.save_encoder('mini_donorchoose_language_model_encoder')"
      ],
      "execution_count": null,
      "outputs": []
    },
    {
      "cell_type": "code",
      "metadata": {
        "id": "LCLDlXJ6d_Ln",
        "colab_type": "code",
        "colab": {}
      },
      "source": [
        "path=\"/content/drive/My Drive/DonorsChoose\""
      ],
      "execution_count": null,
      "outputs": []
    },
    {
      "cell_type": "code",
      "metadata": {
        "id": "lzBaWThLNM0q",
        "colab_type": "code",
        "colab": {
          "base_uri": "https://localhost:8080/",
          "height": 1000
        },
        "outputId": "d97e2356-6d40-4390-d7f9-3a78062ee089"
      },
      "source": [
        "learn = text_classifier_learner(data_cls, AWD_LSTM, drop_mult=0.5).to_fp16()\n",
        "learn.load('/content/drive/My Drive/DonorsChoose/export')"
      ],
      "execution_count": null,
      "outputs": [
        {
          "output_type": "execute_result",
          "data": {
            "text/plain": [
              "RNNLearner(data=TextClasDataBunch;\n",
              "\n",
              "Train: LabelList (84000 items)\n",
              "x: TextList\n",
              "xxbos math & science , applied learning applied sciences , other ipad for istudents ! my students are starting off their academic careers at turner / bartels ! turner / bartels is a stem school that leads many opportunities to use technology to enhance the learning of the child . my students have the opportunity to reach past all boundaries with technology and different learning ! my students are from all different cultural backgrounds and have a multitude of experiences . a majority of my students come from he new tampa area and have walked many paths . please help them reach the stars ! thank you ! having technology at the finger tips of each of my students allows them to understand and investigate more than what is brought into the classroom . my students will be researching cultures , animals , and a multitude of different things . technology enhances children 's learning by giving them boundless opportunities . we are also able to use programs that differentiate learning to meet the needs of all of my students . i am hoping through this piece of technology i am able to give my students more opportunities in learning and in their skills for the future . thank you for your donations and go tigers ! na na my students need to be prepared for 21st century jobs and the evolutionary future . with an ipad , my students are able to do research , see places , and explore bounds !,xxbos literacy & language literacy , literature & writing tech tools for teaching and learning my students are creative , intelligent , and fun ! our school serves a historic neighborhood in dc that is currently a mix of middle class families and families that struggle financially . we are a title i school . many of our students fight daily battles with poverty , emotional issues , and family transitions . r n r neven with fighting many daily battles , our students bring all the energy , excitement , and curiosity to learning that you would expect . they are dedicated students with a thirst for knowledge . please help me maximize this critical third grade year for my students benefit ! my students each have a reading journal where they record notes and other written work . i often find myself wanting to demonstrate how i would write notes in the journal . or , how to divide a page to include all components of an answer . i 'm unable to show them the process i 'm taking . also , it is difficult for students to share their writing with the class immediately . r n r nthe document camera would enhance our learning experience on a daily basis . it will allow me to demonstrate my process in writing answers to questions and writing notes . in the long run , demonstrating these processes will help students to complete notes and text - dependent answers independently . na na my students need a tool that helps them share written work with the class . the document camera will project paper documents onto our smart board for easy viewing .,xxbos literacy & language literacy love books i have 20 curious little people that just started first grade . they love school . everything right now is new and exciting . they have varied reading abilities that need to be met . i want first grade to be a memorable year . a year in which they learned many new concepts and increased their love of learning . most of the children are on free and reduced lunch . i hope utilizing this project in my class will encourage my students to read more in school and at home . my students just started first grade and are very excited about learning to read . i want to set up a listening station that can be used daily . i have found in the past , books with cassette tapes get broken easily . i would like to get books with cds because they are easier for little hands to use and last a long time . i know my students will enjoy this center and listen to the stories over and over again . i hope this station will spark an interest in going to the public library to get books to read at home . r n r nlistening to an audio book will instill an enjoyment of reading , help my children learn new vocabulary , and model fluency . r n r n na na my students need audio books to be placed in our listening center .,xxbos math & science mathematics make learning fun in 3rd grade ! my students are the sweetest group of 3rd graders . my students are thoughtful , inquisitive , and so eager to learn . they love to do steam projects and use technology . r n r n the art of teaching is the art of assisting discovery . mark van doren r nmy students love to create , explore and discover new ways to solve problems and learn . our classroom is always so full of conversation , and energy . they love to collaborate and share ideas while working together . we are moving through 3rd grade ! r n my third grade students are very energetic and bubbly students who are eager to learn using many different learning styles . we do our best to incorporate movement throughout the school day but sometimes it is necessary to sit and listen to instruction . this can be sometimes be hard for some students . so my project includes alternatives . although we have a few alternative seats , we do not have near enough for a class of 20 . studies show that alternative seating can be a good option for students that are always moving . we have a flower table that will be our vip table , and we need flexible seating and several supplies for that table as well . na na my students need these items to help us learn in a creative way while using our imagination . flexible seating helps my students learn in a more comfortable way .,xxbos math & science environmental science a distraction free zone i work in a large school with a diverse group of students with large classroom sizes . these students work very hard in their academics and are working on 21st - century skills to help them be successful later in life . due to the large class sizes , we are packed in the room where it is sometimes difficult to focus . these students are new to middle school and are learning self - control still . with such large class sizes we are sitting 3 sometimes 4 to table which makes testing a challenge . this year the state is requiring us to have partitions for tables that seat more the 2 , so in an effort to save our school the money i am posting this project ! r n with state testing approaching quickly we are trying to better prepare our students for what is to come . with the large classroom sizes at our school it is hard for students to remained focused during the long tests . in an effort to help fix this problem i am trying to help my school get enough materials to xxunk students during testing so that they are able to focus and finish their test to the best of their ability . the state has requested that we have partitions and while this is aggravating to find out so close to testing , i feel the students will largely benefit from have less distractions around them . na na my students need to have as little distraction as possible when testing .\n",
              "y: CategoryList\n",
              "rejected,accepted,accepted,rejected,accepted\n",
              "Path: .;\n",
              "\n",
              "Valid: LabelList (0 items)\n",
              "x: TextList\n",
              "\n",
              "y: CategoryList\n",
              "\n",
              "Path: .;\n",
              "\n",
              "Test: None, model=SequentialRNN(\n",
              "  (0): MultiBatchEncoder(\n",
              "    (module): AWD_LSTM(\n",
              "      (encoder): Embedding(38856, 400, padding_idx=1)\n",
              "      (encoder_dp): EmbeddingDropout(\n",
              "        (emb): Embedding(38856, 400, padding_idx=1)\n",
              "      )\n",
              "      (rnns): ModuleList(\n",
              "        (0): WeightDropout(\n",
              "          (module): LSTM(400, 1152, batch_first=True)\n",
              "        )\n",
              "        (1): WeightDropout(\n",
              "          (module): LSTM(1152, 1152, batch_first=True)\n",
              "        )\n",
              "        (2): WeightDropout(\n",
              "          (module): LSTM(1152, 400, batch_first=True)\n",
              "        )\n",
              "      )\n",
              "      (input_dp): RNNDropout()\n",
              "      (hidden_dps): ModuleList(\n",
              "        (0): RNNDropout()\n",
              "        (1): RNNDropout()\n",
              "        (2): RNNDropout()\n",
              "      )\n",
              "    )\n",
              "  )\n",
              "  (1): PoolingLinearClassifier(\n",
              "    (layers): Sequential(\n",
              "      (0): BatchNorm1d(1200, eps=1e-05, momentum=0.1, affine=True, track_running_stats=True)\n",
              "      (1): Dropout(p=0.2, inplace=False)\n",
              "      (2): Linear(in_features=1200, out_features=50, bias=True)\n",
              "      (3): ReLU(inplace=True)\n",
              "      (4): BatchNorm1d(50, eps=1e-05, momentum=0.1, affine=True, track_running_stats=True)\n",
              "      (5): Dropout(p=0.1, inplace=False)\n",
              "      (6): Linear(in_features=50, out_features=2, bias=True)\n",
              "    )\n",
              "  )\n",
              "), opt_func=functools.partial(<class 'torch.optim.adam.Adam'>, betas=(0.9, 0.99)), loss_func=FlattenedLoss of CrossEntropyLoss(), metrics=[<function accuracy at 0x7fea40f00400>], true_wd=True, bn_wd=True, wd=0.01, train_bn=True, path=PosixPath('.'), model_dir='models', callback_fns=[functools.partial(<class 'fastai.basic_train.Recorder'>, add_time=True, silent=False)], callbacks=[RNNTrainer\n",
              "learn: RNNLearner(data=TextClasDataBunch;\n",
              "\n",
              "Train: LabelList (84000 items)\n",
              "x: TextList\n",
              "xxbos math & science , applied learning applied sciences , other ipad for istudents ! my students are starting off their academic careers at turner / bartels ! turner / bartels is a stem school that leads many opportunities to use technology to enhance the learning of the child . my students have the opportunity to reach past all boundaries with technology and different learning ! my students are from all different cultural backgrounds and have a multitude of experiences . a majority of my students come from he new tampa area and have walked many paths . please help them reach the stars ! thank you ! having technology at the finger tips of each of my students allows them to understand and investigate more than what is brought into the classroom . my students will be researching cultures , animals , and a multitude of different things . technology enhances children 's learning by giving them boundless opportunities . we are also able to use programs that differentiate learning to meet the needs of all of my students . i am hoping through this piece of technology i am able to give my students more opportunities in learning and in their skills for the future . thank you for your donations and go tigers ! na na my students need to be prepared for 21st century jobs and the evolutionary future . with an ipad , my students are able to do research , see places , and explore bounds !,xxbos literacy & language literacy , literature & writing tech tools for teaching and learning my students are creative , intelligent , and fun ! our school serves a historic neighborhood in dc that is currently a mix of middle class families and families that struggle financially . we are a title i school . many of our students fight daily battles with poverty , emotional issues , and family transitions . r n r neven with fighting many daily battles , our students bring all the energy , excitement , and curiosity to learning that you would expect . they are dedicated students with a thirst for knowledge . please help me maximize this critical third grade year for my students benefit ! my students each have a reading journal where they record notes and other written work . i often find myself wanting to demonstrate how i would write notes in the journal . or , how to divide a page to include all components of an answer . i 'm unable to show them the process i 'm taking . also , it is difficult for students to share their writing with the class immediately . r n r nthe document camera would enhance our learning experience on a daily basis . it will allow me to demonstrate my process in writing answers to questions and writing notes . in the long run , demonstrating these processes will help students to complete notes and text - dependent answers independently . na na my students need a tool that helps them share written work with the class . the document camera will project paper documents onto our smart board for easy viewing .,xxbos literacy & language literacy love books i have 20 curious little people that just started first grade . they love school . everything right now is new and exciting . they have varied reading abilities that need to be met . i want first grade to be a memorable year . a year in which they learned many new concepts and increased their love of learning . most of the children are on free and reduced lunch . i hope utilizing this project in my class will encourage my students to read more in school and at home . my students just started first grade and are very excited about learning to read . i want to set up a listening station that can be used daily . i have found in the past , books with cassette tapes get broken easily . i would like to get books with cds because they are easier for little hands to use and last a long time . i know my students will enjoy this center and listen to the stories over and over again . i hope this station will spark an interest in going to the public library to get books to read at home . r n r nlistening to an audio book will instill an enjoyment of reading , help my children learn new vocabulary , and model fluency . r n r n na na my students need audio books to be placed in our listening center .,xxbos math & science mathematics make learning fun in 3rd grade ! my students are the sweetest group of 3rd graders . my students are thoughtful , inquisitive , and so eager to learn . they love to do steam projects and use technology . r n r n the art of teaching is the art of assisting discovery . mark van doren r nmy students love to create , explore and discover new ways to solve problems and learn . our classroom is always so full of conversation , and energy . they love to collaborate and share ideas while working together . we are moving through 3rd grade ! r n my third grade students are very energetic and bubbly students who are eager to learn using many different learning styles . we do our best to incorporate movement throughout the school day but sometimes it is necessary to sit and listen to instruction . this can be sometimes be hard for some students . so my project includes alternatives . although we have a few alternative seats , we do not have near enough for a class of 20 . studies show that alternative seating can be a good option for students that are always moving . we have a flower table that will be our vip table , and we need flexible seating and several supplies for that table as well . na na my students need these items to help us learn in a creative way while using our imagination . flexible seating helps my students learn in a more comfortable way .,xxbos math & science environmental science a distraction free zone i work in a large school with a diverse group of students with large classroom sizes . these students work very hard in their academics and are working on 21st - century skills to help them be successful later in life . due to the large class sizes , we are packed in the room where it is sometimes difficult to focus . these students are new to middle school and are learning self - control still . with such large class sizes we are sitting 3 sometimes 4 to table which makes testing a challenge . this year the state is requiring us to have partitions for tables that seat more the 2 , so in an effort to save our school the money i am posting this project ! r n with state testing approaching quickly we are trying to better prepare our students for what is to come . with the large classroom sizes at our school it is hard for students to remained focused during the long tests . in an effort to help fix this problem i am trying to help my school get enough materials to xxunk students during testing so that they are able to focus and finish their test to the best of their ability . the state has requested that we have partitions and while this is aggravating to find out so close to testing , i feel the students will largely benefit from have less distractions around them . na na my students need to have as little distraction as possible when testing .\n",
              "y: CategoryList\n",
              "rejected,accepted,accepted,rejected,accepted\n",
              "Path: .;\n",
              "\n",
              "Valid: LabelList (0 items)\n",
              "x: TextList\n",
              "\n",
              "y: CategoryList\n",
              "\n",
              "Path: .;\n",
              "\n",
              "Test: None, model=SequentialRNN(\n",
              "  (0): MultiBatchEncoder(\n",
              "    (module): AWD_LSTM(\n",
              "      (encoder): Embedding(38856, 400, padding_idx=1)\n",
              "      (encoder_dp): EmbeddingDropout(\n",
              "        (emb): Embedding(38856, 400, padding_idx=1)\n",
              "      )\n",
              "      (rnns): ModuleList(\n",
              "        (0): WeightDropout(\n",
              "          (module): LSTM(400, 1152, batch_first=True)\n",
              "        )\n",
              "        (1): WeightDropout(\n",
              "          (module): LSTM(1152, 1152, batch_first=True)\n",
              "        )\n",
              "        (2): WeightDropout(\n",
              "          (module): LSTM(1152, 400, batch_first=True)\n",
              "        )\n",
              "      )\n",
              "      (input_dp): RNNDropout()\n",
              "      (hidden_dps): ModuleList(\n",
              "        (0): RNNDropout()\n",
              "        (1): RNNDropout()\n",
              "        (2): RNNDropout()\n",
              "      )\n",
              "    )\n",
              "  )\n",
              "  (1): PoolingLinearClassifier(\n",
              "    (layers): Sequential(\n",
              "      (0): BatchNorm1d(1200, eps=1e-05, momentum=0.1, affine=True, track_running_stats=True)\n",
              "      (1): Dropout(p=0.2, inplace=False)\n",
              "      (2): Linear(in_features=1200, out_features=50, bias=True)\n",
              "      (3): ReLU(inplace=True)\n",
              "      (4): BatchNorm1d(50, eps=1e-05, momentum=0.1, affine=True, track_running_stats=True)\n",
              "      (5): Dropout(p=0.1, inplace=False)\n",
              "      (6): Linear(in_features=50, out_features=2, bias=True)\n",
              "    )\n",
              "  )\n",
              "), opt_func=functools.partial(<class 'torch.optim.adam.Adam'>, betas=(0.9, 0.99)), loss_func=FlattenedLoss of CrossEntropyLoss(), metrics=[<function accuracy at 0x7fea40f00400>], true_wd=True, bn_wd=True, wd=0.01, train_bn=True, path=PosixPath('.'), model_dir='models', callback_fns=[functools.partial(<class 'fastai.basic_train.Recorder'>, add_time=True, silent=False)], callbacks=[...], layer_groups=[Sequential(\n",
              "  (0): Embedding(38856, 400, padding_idx=1)\n",
              "  (1): EmbeddingDropout(\n",
              "    (emb): Embedding(38856, 400, padding_idx=1)\n",
              "  )\n",
              "), Sequential(\n",
              "  (0): WeightDropout(\n",
              "    (module): LSTM(400, 1152, batch_first=True)\n",
              "  )\n",
              "  (1): RNNDropout()\n",
              "), Sequential(\n",
              "  (0): WeightDropout(\n",
              "    (module): LSTM(1152, 1152, batch_first=True)\n",
              "  )\n",
              "  (1): RNNDropout()\n",
              "), Sequential(\n",
              "  (0): WeightDropout(\n",
              "    (module): LSTM(1152, 400, batch_first=True)\n",
              "  )\n",
              "  (1): RNNDropout()\n",
              "), Sequential(\n",
              "  (0): PoolingLinearClassifier(\n",
              "    (layers): Sequential(\n",
              "      (0): BatchNorm1d(1200, eps=1e-05, momentum=0.1, affine=True, track_running_stats=True)\n",
              "      (1): Dropout(p=0.2, inplace=False)\n",
              "      (2): Linear(in_features=1200, out_features=50, bias=True)\n",
              "      (3): ReLU(inplace=True)\n",
              "      (4): BatchNorm1d(50, eps=1e-05, momentum=0.1, affine=True, track_running_stats=True)\n",
              "      (5): Dropout(p=0.1, inplace=False)\n",
              "      (6): Linear(in_features=50, out_features=2, bias=True)\n",
              "    )\n",
              "  )\n",
              ")], add_time=True, silent=False)\n",
              "alpha: 2.0\n",
              "beta: 1.0, MixedPrecision\n",
              "learn: RNNLearner(data=TextClasDataBunch;\n",
              "\n",
              "Train: LabelList (84000 items)\n",
              "x: TextList\n",
              "xxbos math & science , applied learning applied sciences , other ipad for istudents ! my students are starting off their academic careers at turner / bartels ! turner / bartels is a stem school that leads many opportunities to use technology to enhance the learning of the child . my students have the opportunity to reach past all boundaries with technology and different learning ! my students are from all different cultural backgrounds and have a multitude of experiences . a majority of my students come from he new tampa area and have walked many paths . please help them reach the stars ! thank you ! having technology at the finger tips of each of my students allows them to understand and investigate more than what is brought into the classroom . my students will be researching cultures , animals , and a multitude of different things . technology enhances children 's learning by giving them boundless opportunities . we are also able to use programs that differentiate learning to meet the needs of all of my students . i am hoping through this piece of technology i am able to give my students more opportunities in learning and in their skills for the future . thank you for your donations and go tigers ! na na my students need to be prepared for 21st century jobs and the evolutionary future . with an ipad , my students are able to do research , see places , and explore bounds !,xxbos literacy & language literacy , literature & writing tech tools for teaching and learning my students are creative , intelligent , and fun ! our school serves a historic neighborhood in dc that is currently a mix of middle class families and families that struggle financially . we are a title i school . many of our students fight daily battles with poverty , emotional issues , and family transitions . r n r neven with fighting many daily battles , our students bring all the energy , excitement , and curiosity to learning that you would expect . they are dedicated students with a thirst for knowledge . please help me maximize this critical third grade year for my students benefit ! my students each have a reading journal where they record notes and other written work . i often find myself wanting to demonstrate how i would write notes in the journal . or , how to divide a page to include all components of an answer . i 'm unable to show them the process i 'm taking . also , it is difficult for students to share their writing with the class immediately . r n r nthe document camera would enhance our learning experience on a daily basis . it will allow me to demonstrate my process in writing answers to questions and writing notes . in the long run , demonstrating these processes will help students to complete notes and text - dependent answers independently . na na my students need a tool that helps them share written work with the class . the document camera will project paper documents onto our smart board for easy viewing .,xxbos literacy & language literacy love books i have 20 curious little people that just started first grade . they love school . everything right now is new and exciting . they have varied reading abilities that need to be met . i want first grade to be a memorable year . a year in which they learned many new concepts and increased their love of learning . most of the children are on free and reduced lunch . i hope utilizing this project in my class will encourage my students to read more in school and at home . my students just started first grade and are very excited about learning to read . i want to set up a listening station that can be used daily . i have found in the past , books with cassette tapes get broken easily . i would like to get books with cds because they are easier for little hands to use and last a long time . i know my students will enjoy this center and listen to the stories over and over again . i hope this station will spark an interest in going to the public library to get books to read at home . r n r nlistening to an audio book will instill an enjoyment of reading , help my children learn new vocabulary , and model fluency . r n r n na na my students need audio books to be placed in our listening center .,xxbos math & science mathematics make learning fun in 3rd grade ! my students are the sweetest group of 3rd graders . my students are thoughtful , inquisitive , and so eager to learn . they love to do steam projects and use technology . r n r n the art of teaching is the art of assisting discovery . mark van doren r nmy students love to create , explore and discover new ways to solve problems and learn . our classroom is always so full of conversation , and energy . they love to collaborate and share ideas while working together . we are moving through 3rd grade ! r n my third grade students are very energetic and bubbly students who are eager to learn using many different learning styles . we do our best to incorporate movement throughout the school day but sometimes it is necessary to sit and listen to instruction . this can be sometimes be hard for some students . so my project includes alternatives . although we have a few alternative seats , we do not have near enough for a class of 20 . studies show that alternative seating can be a good option for students that are always moving . we have a flower table that will be our vip table , and we need flexible seating and several supplies for that table as well . na na my students need these items to help us learn in a creative way while using our imagination . flexible seating helps my students learn in a more comfortable way .,xxbos math & science environmental science a distraction free zone i work in a large school with a diverse group of students with large classroom sizes . these students work very hard in their academics and are working on 21st - century skills to help them be successful later in life . due to the large class sizes , we are packed in the room where it is sometimes difficult to focus . these students are new to middle school and are learning self - control still . with such large class sizes we are sitting 3 sometimes 4 to table which makes testing a challenge . this year the state is requiring us to have partitions for tables that seat more the 2 , so in an effort to save our school the money i am posting this project ! r n with state testing approaching quickly we are trying to better prepare our students for what is to come . with the large classroom sizes at our school it is hard for students to remained focused during the long tests . in an effort to help fix this problem i am trying to help my school get enough materials to xxunk students during testing so that they are able to focus and finish their test to the best of their ability . the state has requested that we have partitions and while this is aggravating to find out so close to testing , i feel the students will largely benefit from have less distractions around them . na na my students need to have as little distraction as possible when testing .\n",
              "y: CategoryList\n",
              "rejected,accepted,accepted,rejected,accepted\n",
              "Path: .;\n",
              "\n",
              "Valid: LabelList (0 items)\n",
              "x: TextList\n",
              "\n",
              "y: CategoryList\n",
              "\n",
              "Path: .;\n",
              "\n",
              "Test: None, model=SequentialRNN(\n",
              "  (0): MultiBatchEncoder(\n",
              "    (module): AWD_LSTM(\n",
              "      (encoder): Embedding(38856, 400, padding_idx=1)\n",
              "      (encoder_dp): EmbeddingDropout(\n",
              "        (emb): Embedding(38856, 400, padding_idx=1)\n",
              "      )\n",
              "      (rnns): ModuleList(\n",
              "        (0): WeightDropout(\n",
              "          (module): LSTM(400, 1152, batch_first=True)\n",
              "        )\n",
              "        (1): WeightDropout(\n",
              "          (module): LSTM(1152, 1152, batch_first=True)\n",
              "        )\n",
              "        (2): WeightDropout(\n",
              "          (module): LSTM(1152, 400, batch_first=True)\n",
              "        )\n",
              "      )\n",
              "      (input_dp): RNNDropout()\n",
              "      (hidden_dps): ModuleList(\n",
              "        (0): RNNDropout()\n",
              "        (1): RNNDropout()\n",
              "        (2): RNNDropout()\n",
              "      )\n",
              "    )\n",
              "  )\n",
              "  (1): PoolingLinearClassifier(\n",
              "    (layers): Sequential(\n",
              "      (0): BatchNorm1d(1200, eps=1e-05, momentum=0.1, affine=True, track_running_stats=True)\n",
              "      (1): Dropout(p=0.2, inplace=False)\n",
              "      (2): Linear(in_features=1200, out_features=50, bias=True)\n",
              "      (3): ReLU(inplace=True)\n",
              "      (4): BatchNorm1d(50, eps=1e-05, momentum=0.1, affine=True, track_running_stats=True)\n",
              "      (5): Dropout(p=0.1, inplace=False)\n",
              "      (6): Linear(in_features=50, out_features=2, bias=True)\n",
              "    )\n",
              "  )\n",
              "), opt_func=functools.partial(<class 'torch.optim.adam.Adam'>, betas=(0.9, 0.99)), loss_func=FlattenedLoss of CrossEntropyLoss(), metrics=[<function accuracy at 0x7fea40f00400>], true_wd=True, bn_wd=True, wd=0.01, train_bn=True, path=PosixPath('.'), model_dir='models', callback_fns=[functools.partial(<class 'fastai.basic_train.Recorder'>, add_time=True, silent=False)], callbacks=[...], layer_groups=[Sequential(\n",
              "  (0): Embedding(38856, 400, padding_idx=1)\n",
              "  (1): EmbeddingDropout(\n",
              "    (emb): Embedding(38856, 400, padding_idx=1)\n",
              "  )\n",
              "), Sequential(\n",
              "  (0): WeightDropout(\n",
              "    (module): LSTM(400, 1152, batch_first=True)\n",
              "  )\n",
              "  (1): RNNDropout()\n",
              "), Sequential(\n",
              "  (0): WeightDropout(\n",
              "    (module): LSTM(1152, 1152, batch_first=True)\n",
              "  )\n",
              "  (1): RNNDropout()\n",
              "), Sequential(\n",
              "  (0): WeightDropout(\n",
              "    (module): LSTM(1152, 400, batch_first=True)\n",
              "  )\n",
              "  (1): RNNDropout()\n",
              "), Sequential(\n",
              "  (0): PoolingLinearClassifier(\n",
              "    (layers): Sequential(\n",
              "      (0): BatchNorm1d(1200, eps=1e-05, momentum=0.1, affine=True, track_running_stats=True)\n",
              "      (1): Dropout(p=0.2, inplace=False)\n",
              "      (2): Linear(in_features=1200, out_features=50, bias=True)\n",
              "      (3): ReLU(inplace=True)\n",
              "      (4): BatchNorm1d(50, eps=1e-05, momentum=0.1, affine=True, track_running_stats=True)\n",
              "      (5): Dropout(p=0.1, inplace=False)\n",
              "      (6): Linear(in_features=50, out_features=2, bias=True)\n",
              "    )\n",
              "  )\n",
              ")], add_time=True, silent=False)\n",
              "loss_scale: 65536\n",
              "max_noskip: 1000\n",
              "dynamic: True\n",
              "clip: None\n",
              "flat_master: False\n",
              "max_scale: 16777216\n",
              "loss_fp32: True], layer_groups=[Sequential(\n",
              "  (0): Embedding(38856, 400, padding_idx=1)\n",
              "  (1): EmbeddingDropout(\n",
              "    (emb): Embedding(38856, 400, padding_idx=1)\n",
              "  )\n",
              "), Sequential(\n",
              "  (0): WeightDropout(\n",
              "    (module): LSTM(400, 1152, batch_first=True)\n",
              "  )\n",
              "  (1): RNNDropout()\n",
              "), Sequential(\n",
              "  (0): WeightDropout(\n",
              "    (module): LSTM(1152, 1152, batch_first=True)\n",
              "  )\n",
              "  (1): RNNDropout()\n",
              "), Sequential(\n",
              "  (0): WeightDropout(\n",
              "    (module): LSTM(1152, 400, batch_first=True)\n",
              "  )\n",
              "  (1): RNNDropout()\n",
              "), Sequential(\n",
              "  (0): PoolingLinearClassifier(\n",
              "    (layers): Sequential(\n",
              "      (0): BatchNorm1d(1200, eps=1e-05, momentum=0.1, affine=True, track_running_stats=True)\n",
              "      (1): Dropout(p=0.2, inplace=False)\n",
              "      (2): Linear(in_features=1200, out_features=50, bias=True)\n",
              "      (3): ReLU(inplace=True)\n",
              "      (4): BatchNorm1d(50, eps=1e-05, momentum=0.1, affine=True, track_running_stats=True)\n",
              "      (5): Dropout(p=0.1, inplace=False)\n",
              "      (6): Linear(in_features=50, out_features=2, bias=True)\n",
              "    )\n",
              "  )\n",
              ")], add_time=True, silent=False)"
            ]
          },
          "metadata": {
            "tags": []
          },
          "execution_count": 139
        }
      ]
    },
    {
      "cell_type": "code",
      "metadata": {
        "id": "vBuTlcJDe4XE",
        "colab_type": "code",
        "colab": {
          "base_uri": "https://localhost:8080/",
          "height": 447
        },
        "outputId": "67862e05-8b80-481f-a197-a2875ca8beea"
      },
      "source": [
        "data_cls.show_batch()"
      ],
      "execution_count": null,
      "outputs": [
        {
          "output_type": "display_data",
          "data": {
            "text/html": [
              "<table border=\"1\" class=\"dataframe\">\n",
              "  <thead>\n",
              "    <tr style=\"text-align: right;\">\n",
              "      <th>text</th>\n",
              "      <th>target</th>\n",
              "    </tr>\n",
              "  </thead>\n",
              "  <tbody>\n",
              "    <tr>\n",
              "      <td>xxbos math &amp; science , music &amp; the arts environmental science , visual arts hey ! what 's cooking ? a clay program for art classes ! the students at park creek school are 90 % english is their second language . they come from cultures all over the world . pakistan , japan , vietnam , india , honduras , nigeria , venezuela and mexico are just some of</td>\n",
              "      <td>accepted</td>\n",
              "    </tr>\n",
              "    <tr>\n",
              "      <td>xxbos math &amp; science environmental science sustainable green classroom i teach environmental science to a multi - level high school students composed of 116 all - boys 9th and 10th graders . each session encompasses 14 - 19 students in an inclusive classroom where student motivation is primarily derived from hands - on , inquiry - based , and project - supported learning . our most recent lesson was about</td>\n",
              "      <td>accepted</td>\n",
              "    </tr>\n",
              "    <tr>\n",
              "      <td>xxbos history &amp; civics civics &amp; government , history &amp; geography west virginia studies laptops providing for the future ! tucked away in coal , oil , and natural gas country in rural west virginia , my students are challenged economically . living in rural west virginia challenges my students to be successful in our changing world . our students learn through technology and we need to adapt to their</td>\n",
              "      <td>accepted</td>\n",
              "    </tr>\n",
              "    <tr>\n",
              "      <td>xxbos health &amp; sports health &amp; wellness if you can dream it , you can achieve it ! all of my students are diagnosed with emotional , behavioral , and social disabilities . they struggle to control their feelings and behavior in an effort to maintain a calm demeanor while they try to navigate through their school day . often , they are easily frustrated during routine academic demands ,</td>\n",
              "      <td>accepted</td>\n",
              "    </tr>\n",
              "    <tr>\n",
              "      <td>xxbos health &amp; sports health &amp; wellness green thumbs creating healthy bodies although the majority of my students come from poverty - stricken homes , they are some of the hardest working , intellectual students you will meet . my students are faced with challenges every day , but they do not allow such challenges to defeat their purposes in life . all students in my school receive free lunch</td>\n",
              "      <td>accepted</td>\n",
              "    </tr>\n",
              "  </tbody>\n",
              "</table>"
            ],
            "text/plain": [
              "<IPython.core.display.HTML object>"
            ]
          },
          "metadata": {
            "tags": []
          }
        }
      ]
    },
    {
      "cell_type": "code",
      "metadata": {
        "id": "y39vIS6NG7BB",
        "colab_type": "code",
        "colab": {
          "base_uri": "https://localhost:8080/",
          "height": 76
        },
        "outputId": "1167213f-7095-4afe-9e34-5bfc0ee8c5b2"
      },
      "source": [
        "learn.fit_one_cycle(1, 1e-2)"
      ],
      "execution_count": null,
      "outputs": [
        {
          "output_type": "display_data",
          "data": {
            "text/html": [
              "<table border=\"1\" class=\"dataframe\">\n",
              "  <thead>\n",
              "    <tr style=\"text-align: left;\">\n",
              "      <th>epoch</th>\n",
              "      <th>train_loss</th>\n",
              "      <th>valid_loss</th>\n",
              "      <th>accuracy</th>\n",
              "      <th>time</th>\n",
              "    </tr>\n",
              "  </thead>\n",
              "  <tbody>\n",
              "    <tr>\n",
              "      <td>0</td>\n",
              "      <td>0.381988</td>\n",
              "      <td>0.375582</td>\n",
              "      <td>0.849861</td>\n",
              "      <td>05:39</td>\n",
              "    </tr>\n",
              "  </tbody>\n",
              "</table>"
            ],
            "text/plain": [
              "<IPython.core.display.HTML object>"
            ]
          },
          "metadata": {
            "tags": []
          }
        }
      ]
    },
    {
      "cell_type": "code",
      "metadata": {
        "id": "xhHkUpd6G8lD",
        "colab_type": "code",
        "colab": {
          "base_uri": "https://localhost:8080/",
          "height": 194
        },
        "outputId": "0e0f3d33-4e44-4cd1-b80b-d9a68d210796"
      },
      "source": [
        "\n",
        "learn.unfreeze()\n",
        "learn.fit_one_cycle(5, slice(1e-4, 1e-2))"
      ],
      "execution_count": null,
      "outputs": [
        {
          "output_type": "display_data",
          "data": {
            "text/html": [
              "<table border=\"1\" class=\"dataframe\">\n",
              "  <thead>\n",
              "    <tr style=\"text-align: left;\">\n",
              "      <th>epoch</th>\n",
              "      <th>train_loss</th>\n",
              "      <th>valid_loss</th>\n",
              "      <th>accuracy</th>\n",
              "      <th>time</th>\n",
              "    </tr>\n",
              "  </thead>\n",
              "  <tbody>\n",
              "    <tr>\n",
              "      <td>0</td>\n",
              "      <td>0.360455</td>\n",
              "      <td>0.378693</td>\n",
              "      <td>0.856889</td>\n",
              "      <td>11:25</td>\n",
              "    </tr>\n",
              "    <tr>\n",
              "      <td>1</td>\n",
              "      <td>0.359361</td>\n",
              "      <td>0.370168</td>\n",
              "      <td>0.848889</td>\n",
              "      <td>11:22</td>\n",
              "    </tr>\n",
              "    <tr>\n",
              "      <td>2</td>\n",
              "      <td>0.327215</td>\n",
              "      <td>0.387760</td>\n",
              "      <td>0.860417</td>\n",
              "      <td>11:21</td>\n",
              "    </tr>\n",
              "    <tr>\n",
              "      <td>3</td>\n",
              "      <td>0.322132</td>\n",
              "      <td>0.358733</td>\n",
              "      <td>0.860556</td>\n",
              "      <td>11:24</td>\n",
              "    </tr>\n",
              "    <tr>\n",
              "      <td>4</td>\n",
              "      <td>0.306868</td>\n",
              "      <td>0.390769</td>\n",
              "      <td>0.860444</td>\n",
              "      <td>11:25</td>\n",
              "    </tr>\n",
              "  </tbody>\n",
              "</table>"
            ],
            "text/plain": [
              "<IPython.core.display.HTML object>"
            ]
          },
          "metadata": {
            "tags": []
          }
        }
      ]
    },
    {
      "cell_type": "code",
      "metadata": {
        "id": "xNpq7BqyBMQg",
        "colab_type": "code",
        "colab": {}
      },
      "source": [
        "\n",
        "learn.unfreeze()\n",
        "learn.fit_one_cycle(1, slice(1e-4, 1e-2))"
      ],
      "execution_count": null,
      "outputs": []
    },
    {
      "cell_type": "code",
      "metadata": {
        "id": "y91LVUr8HA0d",
        "colab_type": "code",
        "colab": {
          "base_uri": "https://localhost:8080/",
          "height": 106
        },
        "outputId": "9215aaf5-a88b-4611-9b17-5a258f329d88"
      },
      "source": [
        "\n",
        "learn.unfreeze()\n",
        "learn.fit_one_cycle(2, slice(1e-4, 1e-2))"
      ],
      "execution_count": null,
      "outputs": [
        {
          "output_type": "display_data",
          "data": {
            "text/html": [
              "<table border=\"1\" class=\"dataframe\">\n",
              "  <thead>\n",
              "    <tr style=\"text-align: left;\">\n",
              "      <th>epoch</th>\n",
              "      <th>train_loss</th>\n",
              "      <th>valid_loss</th>\n",
              "      <th>accuracy</th>\n",
              "      <th>time</th>\n",
              "    </tr>\n",
              "  </thead>\n",
              "  <tbody>\n",
              "    <tr>\n",
              "      <td>0</td>\n",
              "      <td>0.350615</td>\n",
              "      <td>0.369051</td>\n",
              "      <td>0.857861</td>\n",
              "      <td>11:07</td>\n",
              "    </tr>\n",
              "    <tr>\n",
              "      <td>1</td>\n",
              "      <td>0.340533</td>\n",
              "      <td>0.349145</td>\n",
              "      <td>0.861194</td>\n",
              "      <td>11:08</td>\n",
              "    </tr>\n",
              "  </tbody>\n",
              "</table>"
            ],
            "text/plain": [
              "<IPython.core.display.HTML object>"
            ]
          },
          "metadata": {
            "tags": []
          }
        }
      ]
    },
    {
      "cell_type": "code",
      "metadata": {
        "id": "nAY99g2rQDaY",
        "colab_type": "code",
        "colab": {
          "base_uri": "https://localhost:8080/",
          "height": 135
        },
        "outputId": "af14991e-8055-402d-88ae-7d42736d8dfa"
      },
      "source": [
        "preds, targets= learn.get_preds()\n",
        "\n",
        "predictions = np.argmax(preds, axis = 1)\n",
        "pd.crosstab(predictions, target)"
      ],
      "execution_count": null,
      "outputs": [
        {
          "output_type": "execute_result",
          "data": {
            "text/html": [
              "<div>\n",
              "<style scoped>\n",
              "    .dataframe tbody tr th:only-of-type {\n",
              "        vertical-align: middle;\n",
              "    }\n",
              "\n",
              "    .dataframe tbody tr th {\n",
              "        vertical-align: top;\n",
              "    }\n",
              "\n",
              "    .dataframe thead th {\n",
              "        text-align: right;\n",
              "    }\n",
              "</style>\n",
              "<table border=\"1\" class=\"dataframe\">\n",
              "  <thead>\n",
              "    <tr style=\"text-align: right;\">\n",
              "      <th>col_0</th>\n",
              "      <th>0</th>\n",
              "      <th>1</th>\n",
              "    </tr>\n",
              "    <tr>\n",
              "      <th>row_0</th>\n",
              "      <th></th>\n",
              "      <th></th>\n",
              "    </tr>\n",
              "  </thead>\n",
              "  <tbody>\n",
              "    <tr>\n",
              "      <th>0</th>\n",
              "      <td>29802</td>\n",
              "      <td>4315</td>\n",
              "    </tr>\n",
              "    <tr>\n",
              "      <th>1</th>\n",
              "      <td>709</td>\n",
              "      <td>1174</td>\n",
              "    </tr>\n",
              "  </tbody>\n",
              "</table>\n",
              "</div>"
            ],
            "text/plain": [
              "col_0      0     1\n",
              "row_0             \n",
              "0      29802  4315\n",
              "1        709  1174"
            ]
          },
          "metadata": {
            "tags": []
          },
          "execution_count": 37
        }
      ]
    },
    {
      "cell_type": "code",
      "metadata": {
        "id": "dOcv8mM5leJr",
        "colab_type": "code",
        "colab": {
          "base_uri": "https://localhost:8080/",
          "height": 35
        },
        "outputId": "6861c069-c965-47dd-e512-70012e5235f9"
      },
      "source": [
        "(29802+1174)/(29802+1174+4315+709)"
      ],
      "execution_count": null,
      "outputs": [
        {
          "output_type": "execute_result",
          "data": {
            "text/plain": [
              "0.8604444444444445"
            ]
          },
          "metadata": {
            "tags": []
          },
          "execution_count": 31
        }
      ]
    },
    {
      "cell_type": "code",
      "metadata": {
        "id": "0BsuwYjGfFCZ",
        "colab_type": "code",
        "colab": {}
      },
      "source": [
        "learn.save('mini_donorchoose_language_model_final')"
      ],
      "execution_count": null,
      "outputs": []
    }
  ]
}